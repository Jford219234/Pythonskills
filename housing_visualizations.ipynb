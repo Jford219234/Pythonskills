{
  "nbformat": 4,
  "nbformat_minor": 0,
  "metadata": {
    "colab": {
      "name": "housing_visualizations",
      "provenance": []
    },
    "kernelspec": {
      "name": "python3",
      "display_name": "Python 3"
    }
  },
  "cells": [
    {
      "cell_type": "code",
      "metadata": {
        "colab": {
          "base_uri": "https://localhost:8080/"
        },
        "id": "eIPq5oRTDFTp",
        "outputId": "b28de4b4-a855-4099-c1fe-23eeb276c12c"
      },
      "source": [
        "from sqlalchemy import create_engine\r\n",
        "import pandas as pd\r\n",
        "from scipy import stats  \r\n",
        "from matplotlib import pyplot as plt\r\n",
        "import seaborn as sns \r\n",
        "sns.set()\r\n",
        "import warnings\r\n",
        "warnings.filterwarnings(\"ignore\") \r\n",
        "postgres_user = 'dabc_student'  \r\n",
        "postgres_pw = '7*.8G9QH21'\r\n",
        "postgres_host = '142.93.121.174'\r\n",
        "postgres_port = '5432'\r\n",
        "postgres_db = 'houseprices'\r\n",
        "      \r\n",
        "engine = create_engine('postgresql://{}:{}@{}:{}/{}'.format(postgres_user, postgres_pw, postgres_host, postgres_port, postgres_db))\r\n",
        "prices_df = pd.read_sql_table('houseprices', con=engine) \r\n",
        "        \r\n",
        "engine.dispose()\r\n",
        "prices_df.info()"
      ],
      "execution_count": null,
      "outputs": [
        {
          "output_type": "stream",
          "text": [
            "<class 'pandas.core.frame.DataFrame'>\n",
            "RangeIndex: 1460 entries, 0 to 1459\n",
            "Data columns (total 81 columns):\n",
            " #   Column         Non-Null Count  Dtype  \n",
            "---  ------         --------------  -----  \n",
            " 0   id             1460 non-null   int64  \n",
            " 1   mssubclass     1460 non-null   int64  \n",
            " 2   mszoning       1460 non-null   object \n",
            " 3   lotfrontage    1201 non-null   float64\n",
            " 4   lotarea        1460 non-null   int64  \n",
            " 5   street         1460 non-null   object \n",
            " 6   alley          91 non-null     object \n",
            " 7   lotshape       1460 non-null   object \n",
            " 8   landcontour    1460 non-null   object \n",
            " 9   utilities      1460 non-null   object \n",
            " 10  lotconfig      1460 non-null   object \n",
            " 11  landslope      1460 non-null   object \n",
            " 12  neighborhood   1460 non-null   object \n",
            " 13  condition1     1460 non-null   object \n",
            " 14  condition2     1460 non-null   object \n",
            " 15  bldgtype       1460 non-null   object \n",
            " 16  housestyle     1460 non-null   object \n",
            " 17  overallqual    1460 non-null   int64  \n",
            " 18  overallcond    1460 non-null   int64  \n",
            " 19  yearbuilt      1460 non-null   int64  \n",
            " 20  yearremodadd   1460 non-null   int64  \n",
            " 21  roofstyle      1460 non-null   object \n",
            " 22  roofmatl       1460 non-null   object \n",
            " 23  exterior1st    1460 non-null   object \n",
            " 24  exterior2nd    1460 non-null   object \n",
            " 25  masvnrtype     1452 non-null   object \n",
            " 26  masvnrarea     1452 non-null   float64\n",
            " 27  exterqual      1460 non-null   object \n",
            " 28  extercond      1460 non-null   object \n",
            " 29  foundation     1460 non-null   object \n",
            " 30  bsmtqual       1423 non-null   object \n",
            " 31  bsmtcond       1423 non-null   object \n",
            " 32  bsmtexposure   1422 non-null   object \n",
            " 33  bsmtfintype1   1423 non-null   object \n",
            " 34  bsmtfinsf1     1460 non-null   int64  \n",
            " 35  bsmtfintype2   1422 non-null   object \n",
            " 36  bsmtfinsf2     1460 non-null   int64  \n",
            " 37  bsmtunfsf      1460 non-null   int64  \n",
            " 38  totalbsmtsf    1460 non-null   int64  \n",
            " 39  heating        1460 non-null   object \n",
            " 40  heatingqc      1460 non-null   object \n",
            " 41  centralair     1460 non-null   object \n",
            " 42  electrical     1459 non-null   object \n",
            " 43  firstflrsf     1460 non-null   int64  \n",
            " 44  secondflrsf    1460 non-null   int64  \n",
            " 45  lowqualfinsf   1460 non-null   int64  \n",
            " 46  grlivarea      1460 non-null   int64  \n",
            " 47  bsmtfullbath   1460 non-null   int64  \n",
            " 48  bsmthalfbath   1460 non-null   int64  \n",
            " 49  fullbath       1460 non-null   int64  \n",
            " 50  halfbath       1460 non-null   int64  \n",
            " 51  bedroomabvgr   1460 non-null   int64  \n",
            " 52  kitchenabvgr   1460 non-null   int64  \n",
            " 53  kitchenqual    1460 non-null   object \n",
            " 54  totrmsabvgrd   1460 non-null   int64  \n",
            " 55  functional     1460 non-null   object \n",
            " 56  fireplaces     1460 non-null   int64  \n",
            " 57  fireplacequ    770 non-null    object \n",
            " 58  garagetype     1379 non-null   object \n",
            " 59  garageyrblt    1379 non-null   float64\n",
            " 60  garagefinish   1379 non-null   object \n",
            " 61  garagecars     1460 non-null   int64  \n",
            " 62  garagearea     1460 non-null   int64  \n",
            " 63  garagequal     1379 non-null   object \n",
            " 64  garagecond     1379 non-null   object \n",
            " 65  paveddrive     1460 non-null   object \n",
            " 66  wooddecksf     1460 non-null   int64  \n",
            " 67  openporchsf    1460 non-null   int64  \n",
            " 68  enclosedporch  1460 non-null   int64  \n",
            " 69  threessnporch  1460 non-null   int64  \n",
            " 70  screenporch    1460 non-null   int64  \n",
            " 71  poolarea       1460 non-null   int64  \n",
            " 72  poolqc         7 non-null      object \n",
            " 73  fence          281 non-null    object \n",
            " 74  miscfeature    54 non-null     object \n",
            " 75  miscval        1460 non-null   int64  \n",
            " 76  mosold         1460 non-null   int64  \n",
            " 77  yrsold         1460 non-null   int64  \n",
            " 78  saletype       1460 non-null   object \n",
            " 79  salecondition  1460 non-null   object \n",
            " 80  saleprice      1460 non-null   int64  \n",
            "dtypes: float64(3), int64(35), object(43)\n",
            "memory usage: 924.0+ KB\n"
          ],
          "name": "stdout"
        }
      ]
    },
    {
      "cell_type": "code",
      "metadata": {
        "colab": {
          "base_uri": "https://localhost:8080/"
        },
        "id": "Stj20C2pMpM5",
        "outputId": "13993235-0447-4af4-92bb-19522cfb7c50"
      },
      "source": [
        "prices_df['saleprice'].describe()"
      ],
      "execution_count": null,
      "outputs": [
        {
          "output_type": "execute_result",
          "data": {
            "text/plain": [
              "count      1460.000000\n",
              "mean     180921.195890\n",
              "std       79442.502883\n",
              "min       34900.000000\n",
              "25%      129975.000000\n",
              "50%      163000.000000\n",
              "75%      214000.000000\n",
              "max      755000.000000\n",
              "Name: saleprice, dtype: float64"
            ]
          },
          "metadata": {
            "tags": []
          },
          "execution_count": 2
        }
      ]
    },
    {
      "cell_type": "code",
      "metadata": {
        "colab": {
          "base_uri": "https://localhost:8080/",
          "height": 296
        },
        "id": "9gg2zGOGNa-3",
        "outputId": "f8cc26b8-da60-4af3-9512-ea2929594e3e"
      },
      "source": [
        "ax = sns.distplot(prices_df['saleprice'])"
      ],
      "execution_count": null,
      "outputs": [
        {
          "output_type": "display_data",
          "data": {
            "image/png": "[encoded data removed]",
            "text/plain": [
              "<Figure size 432x288 with 1 Axes>"
            ]
          },
          "metadata": {
            "tags": [],
            "needs_background": "light"
          }
        }
      ]
    },
    {
      "cell_type": "code",
      "metadata": {
        "colab": {
          "base_uri": "https://localhost:8080/",
          "height": 302
        },
        "id": "Db_Evw-BOUGK",
        "outputId": "ede849b3-a7d9-49ca-f911-afb145a32162"
      },
      "source": [
        "sns.scatterplot(x=\"lotarea\", y=\"saleprice\", data=prices_df)"
      ],
      "execution_count": null,
      "outputs": [
        {
          "output_type": "execute_result",
          "data": {
            "text/plain": [
              "<matplotlib.axes._subplots.AxesSubplot at 0x7fb3174c4390>"
            ]
          },
          "metadata": {
            "tags": []
          },
          "execution_count": 4
        },
        {
          "output_type": "display_data",
          "data": {
            "image/png": "[encoded data removed]",
            "text/plain": [
              "<Figure size 432x288 with 1 Axes>"
            ]
          },
          "metadata": {
            "tags": [],
            "needs_background": "light"
          }
        }
      ]
    }
  ]
}