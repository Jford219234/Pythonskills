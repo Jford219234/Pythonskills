{
  "nbformat": 4,
  "nbformat_minor": 0,
  "metadata": {
    "colab": {
      "name": "Dictionaries",
      "provenance": []
    },
    "kernelspec": {
      "name": "python3",
      "display_name": "Python 3"
    }
  },
  "cells": [
    {
      "cell_type": "code",
      "metadata": {
        "colab": {
          "base_uri": "https://localhost:8080/"
        },
        "id": "1ce9iI6gYEmt",
        "outputId": "3c68b419-6129-4023-8ede-6b03b79523e3"
      },
      "source": [
        "# dictionary of your store inventory\r\n",
        "stock = {\"earbuds\":20, \"microphones\":72, \"speakers\":14, \"headsets\":59, \"webcams\":37}\r\n",
        "\r\n",
        "# what your customer wants to buy\r\n",
        "merch = 'earbuds'\r\n",
        "\r\n",
        "# number of units of merch your customer wants to buy\r\n",
        "n = 15\r\n",
        "\r\n",
        "# function to check for in stock items\r\n",
        "def fillable(f_stock, f_merch, f_n):\r\n",
        "  if f_stock[f_merch] >= f_n:\r\n",
        "    return True\r\n",
        "  else:\r\n",
        "    return False\r\n",
        "\r\n",
        "# store your results here\r\n",
        "avail_stock = fillable(stock, merch, n)\r\n",
        "\r\n",
        "# print your results\r\n",
        "print(avail_stock)"
      ],
      "execution_count": 3,
      "outputs": [
        {
          "output_type": "stream",
          "text": [
            "True\n"
          ],
          "name": "stdout"
        }
      ]
    },
    {
      "cell_type": "code",
      "metadata": {
        "colab": {
          "base_uri": "https://localhost:8080/"
        },
        "id": "Jb8W2-lUYF2E",
        "outputId": "2f304b8f-4e77-400a-de68-d38ccdb43a67"
      },
      "source": [
        "# define your function here\r\n",
        "def user_contacts(f_data):\r\n",
        "    result = {}\r\n",
        "    for user in f_data:\r\n",
        "        name = user[0]\r\n",
        "        try:\r\n",
        "            zip = user[1]\r\n",
        "        except IndexError:\r\n",
        "            zip = \"None\"\r\n",
        "        result[name] = zip\r\n",
        "    return result\r\n",
        "\r\n",
        "# here is your example data\r\n",
        "data = [[\"Grae Drake\", 98110], [\"Bethany Kok\"], [\"Alex Nussbacher\", 94101], [\"Darrell Silver\", 11201]]\r\n",
        "\r\n",
        "# store your results here\r\n",
        "contact_data = user_contacts(data)\r\n",
        "\r\n",
        "# print your results here\r\n",
        "print(contact_data)\r\n"
      ],
      "execution_count": 1,
      "outputs": [
        {
          "output_type": "stream",
          "text": [
            "{'Grae Drake': 98110, 'Bethany Kok': 'None', 'Alex Nussbacher': 94101, 'Darrell Silver': 11201}\n"
          ],
          "name": "stdout"
        }
      ]
    }
  ]
}