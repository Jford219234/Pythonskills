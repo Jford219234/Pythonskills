{
  "nbformat": 4,
  "nbformat_minor": 0,
  "metadata": {
    "colab": {
      "name": "Intro_to_pandas",
      "provenance": []
    },
    "kernelspec": {
      "name": "python3",
      "display_name": "Python 3"
    }
  },
  "cells": [
    {
      "cell_type": "code",
      "metadata": {
        "colab": {
          "base_uri": "https://localhost:8080/"
        },
        "id": "vizuoKbvXWTV",
        "outputId": "c8d50fb6-7ff5-43ed-d5e5-76b82dd5104f"
      },
      "source": [
        "\r\n",
        "# Please follow the challenge instructions and enter your code below to be evaluated...\r\n",
        "\r\n",
        "# import necessary packages/libraries\r\n",
        "import pandas as pd\r\n",
        "\r\n",
        "# open your file here\r\n",
        "file_to_open = \"https://tf-assets-prod.s3.amazonaws.com/tf-curric/data-analytics-bootcamp/nyc_baby_names.csv\"\r\n",
        "\r\n",
        "# read and load your file into a Pandas dataframe\r\n",
        "df = pd.read_csv(file_to_open)\r\n",
        "\r\n",
        "# print out the general information of the dataframe\r\n",
        "print(df.info())\r\n",
        "\r\n",
        "# print out the header of the dataframe\r\n",
        "print(df.head())\r\n"
      ],
      "execution_count": 3,
      "outputs": [
        {
          "output_type": "stream",
          "text": [
            "<class 'pandas.core.frame.DataFrame'>\n",
            "RangeIndex: 11345 entries, 0 to 11344\n",
            "Data columns (total 12 columns):\n",
            " #   Column                Non-Null Count  Dtype  \n",
            "---  ------                --------------  -----  \n",
            " 0   Year of Birth         11345 non-null  int64  \n",
            " 1   Gender                11345 non-null  object \n",
            " 2   Ethnicity             11345 non-null  object \n",
            " 3   Child's First Name    11345 non-null  object \n",
            " 4   Count                 11345 non-null  int64  \n",
            " 5   Rank                  11345 non-null  int64  \n",
            " 6   Gender.1              11345 non-null  object \n",
            " 7   Ethnicity.1           11345 non-null  object \n",
            " 8   Child's First Name.1  11345 non-null  object \n",
            " 9   Sub1                  11345 non-null  object \n",
            " 10  Sub2                  11345 non-null  object \n",
            " 11  Unnamed: 11           0 non-null      float64\n",
            "dtypes: float64(1), int64(3), object(8)\n",
            "memory usage: 1.0+ MB\n",
            "None\n",
            "   Year of Birth  Gender  ...                        Sub2 Unnamed: 11\n",
            "0           2011  FEMALE  ...  Asian And Pacific Islander         NaN\n",
            "1           2011  FEMALE  ...  Asian And Pacific Islander         NaN\n",
            "2           2011  FEMALE  ...  Asian And Pacific Islander         NaN\n",
            "3           2011  FEMALE  ...  Asian And Pacific Islander         NaN\n",
            "4           2011  FEMALE  ...  Asian And Pacific Islander         NaN\n",
            "\n",
            "[5 rows x 12 columns]\n"
          ],
          "name": "stdout"
        }
      ]
    },
    {
      "cell_type": "code",
      "metadata": {
        "colab": {
          "base_uri": "https://localhost:8080/"
        },
        "id": "O0rXhUHcXX55",
        "outputId": "69c601f6-f842-458e-d4ed-00f1a578a7db"
      },
      "source": [
        "# import necessary packages/libraries\r\n",
        "import pandas as pd\r\n",
        "\r\n",
        "# open your file here\r\n",
        "file_to_open = \"https://tf-assets-prod.s3.amazonaws.com/tf-curric/data-analytics-bootcamp/tweets.json\"\r\n",
        "\r\n",
        "# read and load your file into a Pandas dataframe\r\n",
        "df = pd.read_json(file_to_open)\r\n",
        "\r\n",
        "# print out the general information of the dataframe\r\n",
        "print(df.info())\r\n",
        "\r\n",
        "# print out the header of the dataframe\r\n",
        "print(df.head())"
      ],
      "execution_count": 1,
      "outputs": [
        {
          "output_type": "stream",
          "text": [
            "<class 'pandas.core.frame.DataFrame'>\n",
            "RangeIndex: 1018 entries, 0 to 1017\n",
            "Data columns (total 29 columns):\n",
            " #   Column                     Non-Null Count  Dtype              \n",
            "---  ------                     --------------  -----              \n",
            " 0   id                         1018 non-null   int64              \n",
            " 1   entities                   1018 non-null   object             \n",
            " 2   is_quote_status            1018 non-null   bool               \n",
            " 3   text                       1018 non-null   object             \n",
            " 4   favorited                  1018 non-null   bool               \n",
            " 5   source                     1018 non-null   object             \n",
            " 6   truncated                  1018 non-null   bool               \n",
            " 7   created_at                 1018 non-null   datetime64[ns, UTC]\n",
            " 8   user                       1018 non-null   object             \n",
            " 9   geo                        3 non-null      object             \n",
            " 10  in_reply_to_user_id_str    1 non-null      float64            \n",
            " 11  coordinates                3 non-null      object             \n",
            " 12  in_reply_to_user_id        1 non-null      float64            \n",
            " 13  contributors               0 non-null      float64            \n",
            " 14  place                      341 non-null    object             \n",
            " 15  in_reply_to_status_id_str  0 non-null      float64            \n",
            " 16  retweeted                  1018 non-null   bool               \n",
            " 17  lang                       1018 non-null   object             \n",
            " 18  favorite_count             1018 non-null   int64              \n",
            " 19  in_reply_to_screen_name    1 non-null      object             \n",
            " 20  in_reply_to_status_id      0 non-null      float64            \n",
            " 21  retweeted_status           100 non-null    object             \n",
            " 22  id_str                     1018 non-null   int64              \n",
            " 23  retweet_count              1018 non-null   int64              \n",
            " 24  possibly_sensitive         533 non-null    float64            \n",
            " 25  extended_entities          159 non-null    object             \n",
            " 26  quoted_status_id_str       19 non-null     float64            \n",
            " 27  quoted_status_id           19 non-null     float64            \n",
            " 28  quoted_status              17 non-null     object             \n",
            "dtypes: bool(4), datetime64[ns, UTC](1), float64(8), int64(4), object(12)\n",
            "memory usage: 202.9+ KB\n",
            "None\n",
            "                   id  ... quoted_status\n",
            "0  815449933453127681  ...           NaN\n",
            "1  815449868739211265  ...           NaN\n",
            "2  815433444591304704  ...           NaN\n",
            "3  815433217595547648  ...           NaN\n",
            "4  815432169464197121  ...           NaN\n",
            "\n",
            "[5 rows x 29 columns]\n"
          ],
          "name": "stdout"
        }
      ]
    }
  ]
}