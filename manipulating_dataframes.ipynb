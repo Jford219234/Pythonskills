{
  "nbformat": 4,
  "nbformat_minor": 0,
  "metadata": {
    "colab": {
      "name": "manipulating_dataframes",
      "provenance": []
    },
    "kernelspec": {
      "name": "python3",
      "display_name": "Python 3"
    }
  },
  "cells": [
    {
      "cell_type": "code",
      "metadata": {
        "id": "a1cA4sMfW3Yr",
        "outputId": "3012fe2b-0276-40b5-94c6-fc98b5b1a444",
        "colab": {
          "base_uri": "https://localhost:8080/"
        }
      },
      "source": [
        "# Instructors:\r\n",
        "# This module is for the student ONLY and is not evaluated during the test development phase\r\n",
        "# Run \"Preview\" mode if you want to test this as if you were a student\r\n",
        "\r\n",
        "# Students:\r\n",
        "# Please follow the challenge instructions and enter your code below to be evaluated...\r\n",
        "\r\n",
        "# import necessary packages/libraries\r\n",
        "import pandas as pd\r\n",
        "\r\n",
        "# import the data\r\n",
        "projects_df = pd.read_csv(\"https://tf-assets-prod.s3.amazonaws.com/tf-curric/data-analytics-bootcamp/ksprojects.csv\")\r\n",
        "\r\n",
        "# 1. Get and print the number of rows and columns in the DataFrame\r\n",
        "\r\n",
        "shape_df = projects_df.shape\r\n",
        "print(shape_df)\r\n",
        "\r\n",
        "# 2. Get and print the names and data types of the DataFrame\r\n",
        "info_df = projects_df.info()\r\n",
        "print(info_df)\r\n",
        "\r\n",
        "# 3. Check for any null values and print it out\r\n",
        "null_df = projects_df.isna().sum()\r\n",
        "print(null_df)\r\n",
        "\r\n",
        "# 4. Create a crosstab to get a count of records for each combination state and category.\r\n",
        "cross_df = pd.crosstab(projects_df.state, projects_df.category)\r\n",
        "print(cross_df)"
      ],
      "execution_count": 1,
      "outputs": [
        {
          "output_type": "stream",
          "text": [
            "(65350, 13)\n",
            "<class 'pandas.core.frame.DataFrame'>\n",
            "RangeIndex: 65350 entries, 0 to 65349\n",
            "Data columns (total 13 columns):\n",
            " #   Column         Non-Null Count  Dtype  \n",
            "---  ------         --------------  -----  \n",
            " 0   id             65350 non-null  int64  \n",
            " 1   name           65350 non-null  object \n",
            " 2   category       65350 non-null  object \n",
            " 3   main_category  65350 non-null  object \n",
            " 4   deadline       65350 non-null  object \n",
            " 5   goal           65350 non-null  float64\n",
            " 6   launched       65350 non-null  object \n",
            " 7   state          65350 non-null  object \n",
            " 8   backers        65350 non-null  int64  \n",
            " 9   country        65350 non-null  object \n",
            " 10  usd_pledged    64605 non-null  float64\n",
            " 11  currency       65350 non-null  object \n",
            " 12  pledged        65350 non-null  float64\n",
            "dtypes: float64(3), int64(2), object(8)\n",
            "memory usage: 6.5+ MB\n",
            "None\n",
            "id                 0\n",
            "name               0\n",
            "category           0\n",
            "main_category      0\n",
            "deadline           0\n",
            "goal               0\n",
            "launched           0\n",
            "state              0\n",
            "backers            0\n",
            "country            0\n",
            "usd_pledged      745\n",
            "currency           0\n",
            "pledged            0\n",
            "dtype: int64\n",
            "category    3D Printing  Academic  Accessories  ...  World Music  Young Adult  Zines\n",
            "state                                           ...                                 \n",
            "canceled             17        21           48  ...           31           16      6\n",
            "failed               59        86          238  ...          174           78     26\n",
            "live                  3         3           16  ...            2            1      1\n",
            "successful           43        43          121  ...          168           23     17\n",
            "suspended             2         4            2  ...            1            0      0\n",
            "undefined             1         0            1  ...            0            0      0\n",
            "\n",
            "[6 rows x 158 columns]\n"
          ],
          "name": "stdout"
        }
      ]
    }
  ]
}